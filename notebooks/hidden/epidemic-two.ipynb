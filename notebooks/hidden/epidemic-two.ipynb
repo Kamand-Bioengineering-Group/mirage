{
 "cells": [
  {
   "cell_type": "markdown",
   "metadata": {},
   "source": [
    "### **🤖 PLAYER DATA**  \n",
    "- Please assign your name and enrollment number to `NAME`.\n",
    "  ```python\n",
    "  NAME = \"ADITYA_PRAKASH_B20001\"\n",
    "  ```\n",
    "- A new experiment will be created in `LOG_DIRECTORY` each time the presets are called. You may need to restart the runtime to delete an experiment."
   ]
  },
  {
   "cell_type": "code",
   "execution_count": 64,
   "metadata": {},
   "outputs": [],
   "source": [
    "NAME = \"ADITYA_PRAKASH_B20001\"\n",
    "LOG_DIRECTORY = None"
   ]
  },
  {
   "cell_type": "markdown",
   "metadata": {},
   "source": [
    "### **📃 DEPENDENCIES**"
   ]
  },
  {
   "cell_type": "code",
   "execution_count": 65,
   "metadata": {},
   "outputs": [],
   "source": [
    "import sys\n",
    "\n",
    "sys.path.append(\"../\")\n",
    "import pprint\n",
    "\n",
    "import src.mirage.frameworks.epidemics as mre\n",
    "\n",
    "\n",
    "pp = pprint.PrettyPrinter()"
   ]
  },
  {
   "cell_type": "markdown",
   "metadata": {},
   "source": [
    "### **⚙️ SETUP**"
   ]
  },
  {
   "cell_type": "code",
   "execution_count": 66,
   "metadata": {},
   "outputs": [
    {
     "name": "stderr",
     "output_type": "stream",
     "text": [
      "2025-03-28 23:43:24 - V1 | FireflyV1 | EPIDEMIC2.0_ADITYA_PRAKASH_B20001 - INFO -  >> 🚀 Initialized.\n",
      "\n",
      "NOTE: Using experimental fast data loading logic. To disable, pass\n",
      "    \"--load_fast=false\" and report issues on GitHub. More details:\n",
      "    https://github.com/tensorflow/tensorboard/issues/4784\n",
      "\n",
      "2025-03-28 23:43:25 - V1 | FireflyV1 | EPIDEMIC2.0_ADITYA_PRAKASH_B20001 - INFO -  📈 Tensorboard URL: http://dev:6009/ http://127.0.1.1:6009/\n"
     ]
    }
   ],
   "source": [
    "countries, core_processes, epidemic_two_engine, tboard = (\n",
    "    mre.presets.preset_kbg_epidemic_2_0(\n",
    "        player_name=NAME,\n",
    "        engine_speed=7,\n",
    "        log_dir=LOG_DIRECTORY,\n",
    "    )\n",
    ")"
   ]
  },
  {
   "cell_type": "markdown",
   "metadata": {},
   "source": [
    "### **🔥 FIRE**\n",
    "- `N_STEPS` is the number of steps the engine runs for. One step roughly corresponds to a single day in real time although the simulation might progress too slowly in this regime because we did not have time to properly snap a 2 year epidemic trajectory onto 365 * 2 steps in terms of various constants and parameters.\n",
    "- To account for the above issue, let's agree on **<span style=\"color:red;\">6000</span>** as the standard value for `N_STEPS` for the purpose of this experiment. You may have it less than it but not more. \n",
    "- The engine will step through the simulation at `epidemic_two_engine.speed` steps per minute. The default is **<span style=\"color:orange;\">7</span>**. If at any point you feel like the simulation is progessing too slowly you can always assign a higher value to `epidemic_two_engine.speed` to speed things up. If you feel like you don't require a lot of changes or require time to implement a lot of interventions at any step or just want to see the effects of your interventions after logging them in , just speed things up for a bit 🚀."
   ]
  },
  {
   "cell_type": "code",
   "execution_count": 67,
   "metadata": {},
   "outputs": [
    {
     "name": "stderr",
     "output_type": "stream",
     "text": [
      "2025-03-28 23:43:25 - V1 | FireflyV1 | EPIDEMIC2.0_ADITYA_PRAKASH_B20001 - INFO -  >> 🔥 Firing...\n",
      "2025-03-28 23:43:25 - V1 | FireflyV1 | EPIDEMIC2.0_ADITYA_PRAKASH_B20001 - INFO -  >> ▶️ Playing...\n"
     ]
    },
    {
     "data": {
      "text/plain": [
       "<Thread(Thread-747 (orchestration_loop), started 136352421119552)>"
      ]
     },
     "execution_count": 67,
     "metadata": {},
     "output_type": "execute_result"
    }
   ],
   "source": [
    "N_STEPS = 365 * 2\n",
    "epidemic_two_engine.fire(N_STEPS)"
   ]
  },
  {
   "cell_type": "markdown",
   "metadata": {},
   "source": [
    "### **🎛️ ▶️⏸️⏹️**\n",
    "The engine can be controlled using this control panel. You can play, pause, stop and change the speed of the engine using the widget provided below. In case Tensorboard lags use the following cell to see the current step."
   ]
  },
  {
   "cell_type": "code",
   "execution_count": 68,
   "metadata": {},
   "outputs": [
    {
     "data": {
      "text/plain": [
       "0"
      ]
     },
     "execution_count": 68,
     "metadata": {},
     "output_type": "execute_result"
    }
   ],
   "source": [
    "epidemic_two_engine.STEP"
   ]
  },
  {
   "cell_type": "code",
   "execution_count": 69,
   "metadata": {},
   "outputs": [
    {
     "data": {
      "application/vnd.jupyter.widget-view+json": {
       "model_id": "de2807563ce94e98984511b6fa9638d0",
       "version_major": 2,
       "version_minor": 0
      },
      "text/plain": [
       "HBox(children=(Label(value='🎛️ Control Panel'), Button(description='▶️', style=ButtonStyle()), Button(descript…"
      ]
     },
     "metadata": {},
     "output_type": "display_data"
    }
   ],
   "source": [
    "epidemic_two_engine.dynamics_control_panel()"
   ]
  },
  {
   "cell_type": "markdown",
   "metadata": {},
   "source": [
    "### **📈 PROCESS STATUS CHART**\n",
    "Process status chart will display the steps when the processes will be **<span style=\"color:lightgreen;\">ALIVE</span>** as a list of closed intervals. \n",
    "```python\n",
    "{\n",
    "    \"process-x\": [[start1, end1], [start2, end2], ...],\n",
    "    \"process-y\": [[start1, end1], [start2, end2], ...],\n",
    "}\n",
    "```\n",
    "You can time your interventions accordingly. The process status chart can also be updated in real-time for your interventions.\n",
    "\n",
    "⚠️ **<span style=\"color:red;\">NOTE</span>** : Do not tamper with this variable directly."
   ]
  },
  {
   "cell_type": "markdown",
   "metadata": {},
   "source": [
    "Run the following cell to view process status chart. `PROCESS_IDS` can be a **<span style=\"color:lightblue;\">list</span>** of process ids for which you want to see the process status chart or a **<span style=\"color:lightgreen;\">str</span>**. If you want to see the process status chart for all the processes, you can assign **<span style=\"color:purple;\">None</span>** to `PROCESS_IDS`. \n",
    "```python\n",
    "# Usage 1\n",
    "PROCESS_IDS = None\n",
    "# Usage 2\n",
    "PROCESS_IDS = \"process-x\"\n",
    "# Usage 3\n",
    "PROCESS_IDS = [\"process-x\", \"process-y\"]\n",
    "```"
   ]
  },
  {
   "cell_type": "code",
   "execution_count": 70,
   "metadata": {},
   "outputs": [
    {
     "name": "stdout",
     "output_type": "stream",
     "text": [
      "{'airpo': [[0, 6001]],\n",
      " 'birth': [[0, 6001]],\n",
      " 'dissp': [[0, 6001]],\n",
      " 'ecosp': [[0, 6001]],\n",
      " 'ghocp': [[0, 6001]],\n",
      " 'inc_e': [[0, 6001]],\n",
      " 'incdi': [[0, 6001]],\n",
      " 'incdr': [[0, 6001]],\n",
      " 'incds': [[0, 6001]],\n",
      " 'portp': [[0, 6001]],\n",
      " 'touri': [[0, 6001]]}\n"
     ]
    }
   ],
   "source": [
    "PROCESS_IDS = None\n",
    "pp.pprint(epidemic_two_engine.filter_pr_stat_chart(PROCESS_IDS))"
   ]
  },
  {
   "cell_type": "markdown",
   "metadata": {},
   "source": [
    "Run the following cell to list all the processes that are registered on the engine."
   ]
  },
  {
   "cell_type": "code",
   "execution_count": 71,
   "metadata": {},
   "outputs": [
    {
     "name": "stdout",
     "output_type": "stream",
     "text": [
      "['birth',\n",
      " 'ecosp',\n",
      " 'inc_e',\n",
      " 'incdr',\n",
      " 'incdi',\n",
      " 'incds',\n",
      " 'touri',\n",
      " 'airpo',\n",
      " 'portp',\n",
      " 'dissp',\n",
      " 'ghocp']\n"
     ]
    }
   ],
   "source": [
    "pp.pprint(epidemic_two_engine.list_processes())"
   ]
  },
  {
   "cell_type": "markdown",
   "metadata": {},
   "source": [
    "To update the process status chart for a particular process, you can run the following cell. \n",
    "```python\n",
    "PROCESS_ID = \"process-x\"\n",
    "# Intervals 1\n",
    "INTERVALS = [[start1, end1], [start2, end2], ...]\n",
    "# Intervals 2\n",
    "INTERVALS = [start1, end1]\n",
    "# Intervals 3\n",
    "INTERVALS = {alive1, alive2, ...}\n",
    "MODE = \"ALIVE\"\n",
    "```\n",
    "`INTERVALS` can be a list of closed intervals, a closed interval or a set of steps which we want to change. `MODE` can be **<span style=\"color:lightgreen;\">ALIVE</span>** or **<span style=\"color:orange;\">DORMANT</span>**, depending on whether you want the process to be alive or dormant in the given intervals."
   ]
  },
  {
   "cell_type": "code",
   "execution_count": 72,
   "metadata": {},
   "outputs": [
    {
     "name": "stderr",
     "output_type": "stream",
     "text": [
      "2025-03-28 23:43:25 - V1 | FireflyV1 | EPIDEMIC2.0_ADITYA_PRAKASH_B20001 - INFO -  >> 📝 PSC updated | Process: dissp, Timeline: [[0, 119], [141, 219], [251, 6001]].\n"
     ]
    }
   ],
   "source": [
    "PROCESS_ID = \"dissp\"\n",
    "INTERVALS = [[120, 140], [220, 250]]\n",
    "MODE = \"DORMANT\"\n",
    "epidemic_two_engine.update_psc(PROCESS_ID, INTERVALS, MODE)"
   ]
  },
  {
   "cell_type": "markdown",
   "metadata": {},
   "source": [
    "### **💀 KILL PROCESS**\n",
    "Run the following cell with Process ID of whichever process you want to kill."
   ]
  },
  {
   "cell_type": "code",
   "execution_count": 73,
   "metadata": {},
   "outputs": [
    {
     "name": "stderr",
     "output_type": "stream",
     "text": [
      "2025-03-28 23:43:25 - V1 | FireflyV1 | EPIDEMIC2.0_ADITYA_PRAKASH_B20001 - INFO -  >> 💀 Process killed | Process: airpo.\n"
     ]
    }
   ],
   "source": [
    "PROCESS_ID = \"airpo\"\n",
    "epidemic_two_engine.kill_process(PROCESS_ID)"
   ]
  },
  {
   "cell_type": "markdown",
   "metadata": {},
   "source": [
    "### **🗺️ COUNTRIES**\n",
    "To view the schema of a country run the following cell.\n",
    "Available countries are : India, China, France, Japan, USA"
   ]
  },
  {
   "cell_type": "code",
   "execution_count": 74,
   "metadata": {},
   "outputs": [
    {
     "name": "stdout",
     "output_type": "stream",
     "text": [
      "{'cleanliness_index': 0.665,\n",
      " 'disease_research_center': 0,\n",
      " 'gdp': 21631800.0,\n",
      " 'happiness_index': 0.65,\n",
      " 'health_resource_stockpile': 3649.0,\n",
      " 'human_welfare_resource': 1325.0,\n",
      " 'loci': [{'A': 0.03,\n",
      "           'B': 0.022,\n",
      "           'C': 0.006,\n",
      "           'Di': 0.002,\n",
      "           'Dr': 5e-05,\n",
      "           'Ds': 0.0002,\n",
      "           'E': 0.045,\n",
      "           'airports': [{'effect': 1.0,\n",
      "                         'infection_rate': 0.001,\n",
      "                         'name': 'Chhatrapati Shivaji Maharaj International '\n",
      "                                 'Airport',\n",
      "                         'zone_tier': 1},\n",
      "                        {'effect': 1.0,\n",
      "                         'infection_rate': 0.0005,\n",
      "                         'name': 'Pune International Airport',\n",
      "                         'zone_tier': 2}],\n",
      "           'area': 307713.0,\n",
      "           'dead': 30.0,\n",
      "           'economic_zones': [{'effect': 1.0,\n",
      "                               'name': 'Mumbai SEZ',\n",
      "                               'zone_tier': 1},\n",
      "                              {'effect': 1.0,\n",
      "                               'name': 'Pune IT Park',\n",
      "                               'zone_tier': 2}],\n",
      "           'general_hospitals': 10,\n",
      "           'infected': 100000.0,\n",
      "           'lat': 19.7515,\n",
      "           'lon': 75.7139,\n",
      "           'name': 'Maharashtra',\n",
      "           'ports': [{'effect': 1.0,\n",
      "                      'infection_rate': 0.001,\n",
      "                      'name': 'Mumbai Port',\n",
      "                      'zone_tier': 1},\n",
      "                     {'effect': 1.0,\n",
      "                      'infection_rate': 0.0001,\n",
      "                      'name': 'Goa Port',\n",
      "                      'zone_tier': 3}],\n",
      "           'quarantine_facilities': 2,\n",
      "           'recovered': 10.0,\n",
      "           'susceptible': 112374333.0,\n",
      "           'tourist_zones': [{'effect': 1.0,\n",
      "                              'name': 'Gateway of India',\n",
      "                              'zone_tier': 1},\n",
      "                             {'effect': 1.0,\n",
      "                              'name': 'Elephanta Caves',\n",
      "                              'zone_tier': 2}],\n",
      "           'vaccine_distribution_centers': 0},\n",
      "          {'A': 0.025,\n",
      "           'B': 0.028,\n",
      "           'C': 0.002,\n",
      "           'Di': 0.003,\n",
      "           'Dr': 5e-05,\n",
      "           'Ds': 0.0006,\n",
      "           'E': 0.04,\n",
      "           'airports': [{'effect': 1.0,\n",
      "                         'infection_rate': 0.002,\n",
      "                         'name': 'Indira Gandhi International Airport',\n",
      "                         'zone_tier': 1}],\n",
      "           'area': 1484.0,\n",
      "           'dead': 3.0,\n",
      "           'economic_zones': [{'effect': 1.0,\n",
      "                               'name': 'Delhi SEZ',\n",
      "                               'zone_tier': 1},\n",
      "                              {'effect': 1.0,\n",
      "                               'name': 'Gurgaon Industrial Zone',\n",
      "                               'zone_tier': 2}],\n",
      "           'general_hospitals': 10,\n",
      "           'infected': 100000.0,\n",
      "           'lat': 28.7041,\n",
      "           'lon': 77.1025,\n",
      "           'name': 'Delhi',\n",
      "           'ports': None,\n",
      "           'quarantine_facilities': 2,\n",
      "           'recovered': 1000.0,\n",
      "           'susceptible': 16787941.0,\n",
      "           'tourist_zones': [{'effect': 1.0,\n",
      "                              'name': 'Qutub Minar',\n",
      "                              'zone_tier': 1},\n",
      "                             {'effect': 1.0,\n",
      "                              'name': 'Red Fort',\n",
      "                              'zone_tier': 2}],\n",
      "           'vaccine_distribution_centers': 0},\n",
      "          {'A': 0.015,\n",
      "           'B': 0.03,\n",
      "           'C': 0.005,\n",
      "           'Di': 0.0035,\n",
      "           'Dr': 0.000125,\n",
      "           'Ds': 0.0003,\n",
      "           'E': 0.055,\n",
      "           'airports': [{'effect': 1.0,\n",
      "                         'infection_rate': 0.0002,\n",
      "                         'name': 'Chaudhary Charan Singh International Airport',\n",
      "                         'zone_tier': 1}],\n",
      "           'area': 243290.0,\n",
      "           'dead': 30.0,\n",
      "           'economic_zones': [{'effect': 1.0,\n",
      "                               'name': 'Noida SEZ',\n",
      "                               'zone_tier': 1}],\n",
      "           'general_hospitals': 10,\n",
      "           'infected': 100000.0,\n",
      "           'lat': 26.8467,\n",
      "           'lon': 80.9462,\n",
      "           'name': 'Uttar Pradesh',\n",
      "           'ports': None,\n",
      "           'quarantine_facilities': 2,\n",
      "           'recovered': 10.0,\n",
      "           'susceptible': 199812341.0,\n",
      "           'tourist_zones': [{'effect': 1.0,\n",
      "                              'name': 'Taj Mahal',\n",
      "                              'zone_tier': 1},\n",
      "                             {'effect': 1.0,\n",
      "                              'name': 'Varanasi Spiritual zone',\n",
      "                              'zone_tier': 3}],\n",
      "           'vaccine_distribution_centers': 0},\n",
      "          {'A': 0.023,\n",
      "           'B': 0.019,\n",
      "           'C': 0.0065,\n",
      "           'Di': 0.0025,\n",
      "           'Dr': 7.5e-05,\n",
      "           'Ds': 0.00035,\n",
      "           'E': 0.042,\n",
      "           'airports': [{'effect': 1.0,\n",
      "                         'infection_rate': 0.0002,\n",
      "                         'name': 'Cochin International Airport',\n",
      "                         'zone_tier': 1}],\n",
      "           'area': 38863.0,\n",
      "           'dead': 40.0,\n",
      "           'economic_zones': [{'effect': 1.0,\n",
      "                               'name': 'Cochin SEZ',\n",
      "                               'zone_tier': 1}],\n",
      "           'general_hospitals': 10,\n",
      "           'infected': 100000.0,\n",
      "           'lat': 10.8505,\n",
      "           'lon': 76.2711,\n",
      "           'name': 'Kerala',\n",
      "           'ports': [{'effect': 1.0,\n",
      "                      'infection_rate': 0.0002,\n",
      "                      'name': 'Cochin Port',\n",
      "                      'zone_tier': 1}],\n",
      "           'quarantine_facilities': 2,\n",
      "           'recovered': 10.0,\n",
      "           'susceptible': 33406061.0,\n",
      "           'tourist_zones': [{'effect': 1.0,\n",
      "                              'name': 'Kerala Backwaters',\n",
      "                              'zone_tier': 1},\n",
      "                             {'effect': 1.0,\n",
      "                              'name': 'Munnar Tea Estates',\n",
      "                              'zone_tier': 2}],\n",
      "           'vaccine_distribution_centers': 0},\n",
      "          {'A': 0.018,\n",
      "           'B': 0.026,\n",
      "           'C': 0.0035,\n",
      "           'Di': 0.0045,\n",
      "           'Dr': 0.0001,\n",
      "           'Ds': 0.00045,\n",
      "           'E': 0.048,\n",
      "           'airports': [{'effect': 1.0,\n",
      "                         'infection_rate': 0.0002,\n",
      "                         'name': 'Sardar Vallabhbhai Patel International '\n",
      "                                 'Airport',\n",
      "                         'zone_tier': 1}],\n",
      "           'area': 196024.0,\n",
      "           'dead': 30.0,\n",
      "           'economic_zones': [{'effect': 1.0,\n",
      "                               'name': 'Ahmedabad SEZ',\n",
      "                               'zone_tier': 1},\n",
      "                              {'effect': 1.0,\n",
      "                               'name': 'Surat Diamond Park',\n",
      "                               'zone_tier': 3}],\n",
      "           'general_hospitals': 1,\n",
      "           'infected': 100000.0,\n",
      "           'lat': 22.2587,\n",
      "           'lon': 71.1924,\n",
      "           'name': 'Gujarat',\n",
      "           'ports': [{'effect': 1.0,\n",
      "                      'infection_rate': 0.0002,\n",
      "                      'name': 'Kandla Port',\n",
      "                      'zone_tier': 1}],\n",
      "           'quarantine_facilities': 2,\n",
      "           'recovered': 100.0,\n",
      "           'susceptible': 60439692.0,\n",
      "           'tourist_zones': [{'effect': 1.0,\n",
      "                              'name': 'Sabarmati Ashram',\n",
      "                              'zone_tier': 1}],\n",
      "           'vaccine_distribution_centers': 0}],\n",
      " 'name': 'India',\n",
      " 'procedure_resistance': 0.48,\n",
      " 'sanitation_equipment_stockpile': 5019.0,\n",
      " 'vaccine_research_center': 0,\n",
      " 'vaccines_stock': [{'effectiveness': 0.4,\n",
      "                     'gdp_cost_per_step': 1000,\n",
      "                     'name': 'ABC',\n",
      "                     'quantity': 20},\n",
      "                    {'effectiveness': 0.22,\n",
      "                     'gdp_cost_per_step': 1000,\n",
      "                     'name': 'ACB',\n",
      "                     'quantity': 30},\n",
      "                    {'effectiveness': 0.95,\n",
      "                     'gdp_cost_per_step': 1000,\n",
      "                     'name': 'BAC',\n",
      "                     'quantity': 10},\n",
      "                    {'effectiveness': -0.2,\n",
      "                     'gdp_cost_per_step': 1000,\n",
      "                     'name': 'BCA',\n",
      "                     'quantity': 12},\n",
      "                    {'effectiveness': 0.5,\n",
      "                     'gdp_cost_per_step': 1000,\n",
      "                     'name': 'CAB',\n",
      "                     'quantity': 23},\n",
      "                    {'effectiveness': 0.1,\n",
      "                     'gdp_cost_per_step': 1000,\n",
      "                     'name': 'CBA',\n",
      "                     'quantity': 10}]}\n"
     ]
    }
   ],
   "source": [
    "COUNTRY = \"India\"\n",
    "pp.pprint(countries[COUNTRY].model_dump())"
   ]
  },
  {
   "cell_type": "markdown",
   "metadata": {},
   "source": [
    "### **💉 INTERVENTIONS**"
   ]
  },
  {
   "cell_type": "markdown",
   "metadata": {},
   "source": [
    "#### **😷 Mask Intervention**  \n",
    "\n",
    "The following cell will implement the Mask Intervention 😷. It will mask a ratio of people from various loci and incurs cost on Health Resource and Sanitary equipments.\n",
    "- `id` : Give a unique id every time you create a new instance of this intervention. \n",
    "- `intervals` : The intervals when this intervention will be active.\n",
    "- `country` : The countries where this intervention will be implemented.\n",
    "- `state` : The states where this intervention will be implemented.\n",
    "- `effect` : This is the compliance ratio of people who will comply with this intervention. Higher the compliance, more the cost.\n",
    "\n",
    "**<span style=\"color:red;\">NOTE</span>** : \n",
    "- `country`, `state`, and `effect` have to be in order and should be of the same length. If you want to assign multiple states of a country to the intervention, you can do it like this:\n",
    "  ```python\n",
    "  country=[\"India\", \"India\", \"China\"],\n",
    "  state=[\"Maharashtra\", \"Karnataka\", \"Hubei\"],\n",
    "  effect=[0.8, 0.7, 0.9],\n",
    "- This intervention starts **<span style=\"color:orange;\">DORMANT</span>**, you can assign **<span style=\"color:purple;\">None</span>** but then you'd have to update the process status chart when you need it to be active."
   ]
  },
  {
   "cell_type": "code",
   "execution_count": 75,
   "metadata": {},
   "outputs": [
    {
     "name": "stderr",
     "output_type": "stream",
     "text": [
      "2025-03-28 23:43:25 - V1 | FireflyV1 | EPIDEMIC2.0_ADITYA_PRAKASH_B20001 - INFO -  >> 📝 PSC updated | Process: maski-0, Timeline: [[100, 130], [6002, 6002]].\n",
      "2025-03-28 23:43:25 - V1 | FireflyV1 | EPIDEMIC2.0_ADITYA_PRAKASH_B20001 - INFO -  >> 📝 Process registered | Process: maski-0.\n"
     ]
    }
   ],
   "source": [
    "epidemic_two_engine.intervene(\n",
    "    alias=\"maski\",\n",
    "    process_id=\"maski-0\",\n",
    "    intervals=[[100, 130]],\n",
    "    country=[\"India\", \"Japan\"],\n",
    "    state=[\"Maharashtra\", \"Osaka\"],\n",
    "    effect=[0.5, 0.5],\n",
    ")"
   ]
  },
  {
   "cell_type": "markdown",
   "metadata": {},
   "source": [
    "#### **📦 AidKit Intervention**  \n",
    "\n",
    "The following cell will implement the AidKit Intervention 📦. This will provide aidkits to a ratio of people from various loci and incurs cost on Health Resource Stockpile.\n",
    "- `id` : Give a unique id every time you create a new instance of this intervention. \n",
    "- `intervals` : The intervals when this intervention will be active.\n",
    "- `country` : The countries where this intervention will be implemented.\n",
    "- `state` : The states where this intervention will be implemented.\n",
    "- `effect` : This is the ratio of people who will benefit from this intervention. Higher the ratio, more the cost.\n",
    "\n",
    "**<span style=\"color:red;\">NOTE</span>** : \n",
    "- `country`, `state`, and `effect` have to be in order and should be of the same length. If you want to assign multiple states of a country to the intervention, you can do it like this:\n",
    "  ```python\n",
    "  country=[\"India\", \"India\", \"China\"],\n",
    "  state=[\"Maharashtra\", \"Karnataka\", \"Hubei\"],\n",
    "  effect=[0.8, 0.7, 0.9],\n",
    "- This intervention starts **<span style=\"color:orange;\">DORMANT</span>**, you can assign **<span style=\"color:purple;\">None</span>** but then you'd have to update the process status chart when you need it to be active."
   ]
  },
  {
   "cell_type": "code",
   "execution_count": 76,
   "metadata": {},
   "outputs": [
    {
     "name": "stderr",
     "output_type": "stream",
     "text": [
      "2025-03-28 23:43:25 - V1 | FireflyV1 | EPIDEMIC2.0_ADITYA_PRAKASH_B20001 - INFO -  >> 📝 PSC updated | Process: aidki-0, Timeline: [[100, 130], [6002, 6002]].\n",
      "2025-03-28 23:43:25 - V1 | FireflyV1 | EPIDEMIC2.0_ADITYA_PRAKASH_B20001 - INFO -  >> 📝 Process registered | Process: aidki-0.\n"
     ]
    }
   ],
   "source": [
    "epidemic_two_engine.intervene(\n",
    "    alias=\"aidki\",\n",
    "    process_id=\"aidki-0\",\n",
    "    intervals=[[100, 130]],\n",
    "    country=[\"India\", \"Japan\"],\n",
    "    state=[\"Maharashtra\", \"Osaka\"],\n",
    "    effect=[0.5, 0.5],\n",
    ")"
   ]
  },
  {
   "cell_type": "markdown",
   "metadata": {},
   "source": [
    "#### **🪣 Sanitary Intervention**  \n",
    "\n",
    "The following cell will implement the Sanitary Intervention 🪣. Increases general sanitation of various loci and incurs cost on Sanitary Equipment Stockpile.\n",
    "- `id` : Give a unique id every time you create a new instance of this intervention. \n",
    "- `intervals` : The intervals when this intervention will be active.\n",
    "- `country` : The countries where this intervention will be implemented.\n",
    "- `state` : The states where this intervention will be implemented.\n",
    "- `effect` : This is the ratio of people who will benefit from this intervention. Higher the ratio, more the cost.\n",
    "\n",
    "**<span style=\"color:red;\">NOTE</span>** : \n",
    "- `country`, `state`, and `effect` have to be in order and should be of the same length. If you want to assign multiple states of a country to the intervention, you can do it like this:\n",
    "  ```python\n",
    "  country=[\"India\", \"India\", \"China\"],\n",
    "  state=[\"Maharashtra\", \"Karnataka\", \"Hubei\"],\n",
    "  effect=[0.8, 0.7, 0.9],\n",
    "- This intervention starts **<span style=\"color:orange;\">DORMANT</span>**, you can assign **<span style=\"color:purple;\">None</span>** but then you'd have to update the process status chart when you need it to be active."
   ]
  },
  {
   "cell_type": "code",
   "execution_count": 77,
   "metadata": {},
   "outputs": [
    {
     "name": "stderr",
     "output_type": "stream",
     "text": [
      "2025-03-28 23:43:25 - V1 | FireflyV1 | EPIDEMIC2.0_ADITYA_PRAKASH_B20001 - INFO -  >> 📝 PSC updated | Process: gsani-0, Timeline: [[100, 130], [6002, 6002]].\n",
      "2025-03-28 23:43:25 - V1 | FireflyV1 | EPIDEMIC2.0_ADITYA_PRAKASH_B20001 - INFO -  >> 📝 Process registered | Process: gsani-0.\n"
     ]
    }
   ],
   "source": [
    "epidemic_two_engine.intervene(\n",
    "    alias=\"gsani\",\n",
    "    process_id=\"gsani-0\",\n",
    "    intervals=[[100, 130]],\n",
    "    country=[\"India\", \"Japan\"],\n",
    "    state=[\"Maharashtra\", \"Osaka\"],\n",
    "    effect=[0.5, 0.5],\n",
    ")"
   ]
  },
  {
   "cell_type": "markdown",
   "metadata": {},
   "source": [
    "#### **☢️ Quarantine Intervention**  \n",
    "\n",
    "The following cell will implement the Quarantine Intervention ☢️. Builds quarantine centers in various loci which helps reducing the spread of the epidemic and incurs cost on GDP, Health Resource Stockpile and Sanitary Equipment Stockpile.\n",
    "- `id` : Give a unique id every time you create a new instance of this intervention. \n",
    "- `intervals` : The intervals when this intervention will be active.\n",
    "- `country` : The countries where this intervention will be implemented.\n",
    "- `state` : The states where this intervention will be implemented.\n",
    "- `num_centers` : This is the number of quarantine centers that will be built in the loci. More the number of centers, more the cost.\n",
    "\n",
    "**<span style=\"color:red;\">NOTE</span>** : \n",
    "- `country`, `state`, and `effect` have to be in order and should be of the same length. If you want to assign multiple states of a country to the intervention, you can do it like this:\n",
    "  ```python\n",
    "  country=[\"India\", \"India\", \"China\"],\n",
    "  state=[\"Maharashtra\", \"Karnataka\", \"Hubei\"],\n",
    "  num_centers=[4, 6, 5], # int\n",
    "- This intervention starts **<span style=\"color:orange;\">DORMANT</span>**, you can assign **<span style=\"color:purple;\">None</span>** but then you'd have to update the process status chart when you need it to be active."
   ]
  },
  {
   "cell_type": "code",
   "execution_count": 78,
   "metadata": {},
   "outputs": [
    {
     "name": "stderr",
     "output_type": "stream",
     "text": [
      "2025-03-28 23:43:25 - V1 | FireflyV1 | EPIDEMIC2.0_ADITYA_PRAKASH_B20001 - INFO -  >> 📝 PSC updated | Process: quafa-0, Timeline: [[100, 130], [6002, 6002]].\n",
      "2025-03-28 23:43:25 - V1 | FireflyV1 | EPIDEMIC2.0_ADITYA_PRAKASH_B20001 - INFO -  >> 📝 Process registered | Process: quafa-0.\n"
     ]
    }
   ],
   "source": [
    "epidemic_two_engine.intervene(\n",
    "    alias=\"quafa\",\n",
    "    process_id=\"quafa-0\",\n",
    "    intervals=[[100, 130]],\n",
    "    country=[\"India\", \"Japan\"],\n",
    "    state=[\"Maharashtra\", \"Osaka\"],\n",
    "    num_centers=[2, 3],\n",
    ")"
   ]
  },
  {
   "cell_type": "markdown",
   "metadata": {},
   "source": [
    "#### **☢️ Economic Zone Lockdown Intervention**  \n",
    "\n",
    "The following cell will implement the Economic Zone Lockdown Intervention ☢️. It will lockdown economic zones which will lower GDP replenishment but also reduce the spread of the epidemic.\n",
    "- `id` : Give a unique id every time you create a new instance of this intervention. \n",
    "- `intervals` : The step when this will be implemented.\n",
    "- `country` : The countries where this intervention will be implemented.\n",
    "- `economic_zone_names` : The economic zones where this intervention will be implemented.\n",
    "- `effect` : The ratio of the working efficiency of the economic zone post lockdown to the normal working efficiency of the economic zone.\n",
    "\n",
    "**<span style=\"color:red;\">NOTE</span>** : \n",
    "- `country`, `economic_zone_names`, and `effect` have to be in order and should be of the same length. If you want to assign multiple economic zones of a country to the intervention, you can do it like this:\n",
    "  ```python\n",
    "  intervals={stepx},\n",
    "  country=[\"India\", \"India\", \"China\"],\n",
    "  economic_zone_names=[\"Mumbai SEZ\", \"Gurgaon Industrial Zone\", \"Wangfujing\"],\n",
    "  effect=[0.4, 0.1, 0.5],\n",
    "- ⚠️ This intervention starts **<span style=\"color:lightgreen;\">ALIVE</span>** and will die after changing the parameters. Spawn a new intervention of this kind when you need the values back to original."
   ]
  },
  {
   "cell_type": "code",
   "execution_count": 79,
   "metadata": {},
   "outputs": [
    {
     "name": "stderr",
     "output_type": "stream",
     "text": [
      "2025-03-28 23:43:25 - V1 | FireflyV1 | EPIDEMIC2.0_ADITYA_PRAKASH_B20001 - INFO -  >> 📝 PSC updated | Process: eczec-0, Timeline: [[100, 100], [6002, 6002]].\n",
      "2025-03-28 23:43:25 - V1 | FireflyV1 | EPIDEMIC2.0_ADITYA_PRAKASH_B20001 - INFO -  >> 📝 Process registered | Process: eczec-0.\n"
     ]
    }
   ],
   "source": [
    "epidemic_two_engine.intervene(\n",
    "    alias=\"eczec\",\n",
    "    process_id=\"eczec-0\",\n",
    "    intervals={100},\n",
    "    country=[\"India\", \"India\"],\n",
    "    economic_zone_names=[\"Mumbai SEZ\", \"Gurgaon Industrial Zone\"],\n",
    "    effect=[0.5, 0.5],\n",
    ")"
   ]
  },
  {
   "cell_type": "markdown",
   "metadata": {},
   "source": [
    "#### **🚞 Tourist Zone Lockdown Intervention**  \n",
    "\n",
    "The following cell will implement the Tourist Zone Lockdown Intervention 🚞. It will lockdown tourist zones which will lower GDP replenishment but also reduce the spread of the epidemic. Tourist zones produce more GDP but spread the epidemic faster as well.\n",
    "- `id` : Give a unique id every time you create a new instance of this intervention. \n",
    "- `intervals` : The step when this will be implemented.\n",
    "- `country` : The countries where this intervention will be implemented.\n",
    "- `tourist_zone_names` : The tourist zones where this intervention will be implemented.\n",
    "- `effect` : The ratio of the working efficiency of the tourist zone post lockdown to the normal working efficiency of the tourist zone.\n",
    "\n",
    "**<span style=\"color:red;\">NOTE</span>** : \n",
    "- `country`, `tourist_zone_names`, and `effect` have to be in order and should be of the same length. If you want to assign multiple tourist zones of a country to the intervention, you can do it like this:\n",
    "  ```python\n",
    "  intervals={stepx},\n",
    "  country=[\"India\", \"China\"],\n",
    "  tourist_zone_names=[\"Taj Mahal\", \"Yu Garden\"],\n",
    "  effect=[0.4, 0.1],\n",
    "- ⚠️ This intervention starts **<span style=\"color:lightgreen;\">ALIVE</span>** and will die after changing the parameters. Spawn a new intervention of this kind when you need the values back to original."
   ]
  },
  {
   "cell_type": "code",
   "execution_count": 80,
   "metadata": {},
   "outputs": [
    {
     "name": "stderr",
     "output_type": "stream",
     "text": [
      "2025-03-28 23:43:25 - V1 | FireflyV1 | EPIDEMIC2.0_ADITYA_PRAKASH_B20001 - INFO -  >> 📝 PSC updated | Process: trzec-0, Timeline: [[100, 100], [6002, 6002]].\n",
      "2025-03-28 23:43:25 - V1 | FireflyV1 | EPIDEMIC2.0_ADITYA_PRAKASH_B20001 - INFO -  >> 📝 Process registered | Process: trzec-0.\n"
     ]
    }
   ],
   "source": [
    "epidemic_two_engine.intervene(\n",
    "    alias=\"trzec\",\n",
    "    process_id=\"trzec-0\",\n",
    "    intervals={100},\n",
    "    country=[\"India\", \"China\"],\n",
    "    tourist_zone_names=[\"Taj Mahal\", \"Yu Garden\"],\n",
    "    effect=[0.5, 0.5],\n",
    ")"
   ]
  },
  {
   "cell_type": "markdown",
   "metadata": {},
   "source": [
    "#### **🛬 Airport Zone Lockdown Intervention**  \n",
    "\n",
    "The following cell will implement the Airport Lockdown Intervention 🛬. It will lockdown airports which will lower GDP replenishment but also reduce the spread of the epidemic. \n",
    "- `id` : Give a unique id every time you create a new instance of this intervention. \n",
    "- `intervals` : The step when this will be implemented.\n",
    "- `country` : The countries where this intervention will be implemented.\n",
    "- `airport_names` : The airports where this intervention will be implemented.\n",
    "- `effect` : The ratio of the working efficiency of the airports post lockdown to the normal working efficiency of the airports.\n",
    "\n",
    "**<span style=\"color:red;\">NOTE</span>** : \n",
    "- `country`, `airport_names`, and `effect` have to be in order and should be of the same length. If you want to assign multiple airports of a country to the intervention, you can do it like this:\n",
    "  ```python\n",
    "  intervals={stepx},\n",
    "  country=[\"India\", \"China\"],\n",
    "  airport_names=[\"Indira Gandhi International Airport\", \"Shanghai Hongqiao International Airport\"],\n",
    "  effect=[0.4, 0.1],\n",
    "- ⚠️ This intervention starts **<span style=\"color:lightgreen;\">ALIVE</span>** and will die after changing the parameters. Spawn a new intervention of this kind when you need the values back to original."
   ]
  },
  {
   "cell_type": "code",
   "execution_count": 81,
   "metadata": {},
   "outputs": [
    {
     "name": "stderr",
     "output_type": "stream",
     "text": [
      "2025-03-28 23:43:25 - V1 | FireflyV1 | EPIDEMIC2.0_ADITYA_PRAKASH_B20001 - INFO -  >> 📝 PSC updated | Process: airec-0, Timeline: [[100, 100], [6002, 6002]].\n",
      "2025-03-28 23:43:25 - V1 | FireflyV1 | EPIDEMIC2.0_ADITYA_PRAKASH_B20001 - INFO -  >> 📝 Process registered | Process: airec-0.\n"
     ]
    }
   ],
   "source": [
    "epidemic_two_engine.intervene(\n",
    "    alias=\"airec\",\n",
    "    process_id=\"airec-0\",\n",
    "    intervals={100},\n",
    "    country=[\"India\", \"China\"],\n",
    "    airport_names=[\n",
    "        \"Indira Gandhi International Airport\",\n",
    "        \"Shanghai Hongqiao International Airport\",\n",
    "    ],\n",
    "    effect=[0.5, 0.5],\n",
    ")"
   ]
  },
  {
   "cell_type": "markdown",
   "metadata": {},
   "source": [
    "#### **🚢 Airport Zone Lockdown Intervention**  \n",
    "\n",
    "The following cell will implement the Port Lockdown Intervention 🚢. It will lockdown ports which will lower GDP replenishment but also reduce the spread of the epidemic. \n",
    "- `id` : Give a unique id every time you create a new instance of this intervention. \n",
    "- `intervals` : The step when this will be implemented.\n",
    "- `country` : The countries where this intervention will be implemented.\n",
    "- `port_names` : The ports where this intervention will be implemented.\n",
    "- `effect` : The ratio of the working efficiency of the ports post lockdown to the normal working efficiency of the ports.\n",
    "\n",
    "**<span style=\"color:red;\">NOTE</span>** : \n",
    "- `country`, `port_names`, and `effect` have to be in order and should be of the same length. If you want to assign multiple ports of a country to the intervention, you can do it like this:\n",
    "  ```python\n",
    "  intervals={stepx},\n",
    "  country=[\"India\", \"China\"],\n",
    "  port_names=[\"Indira Gandhi International Airport\", \"Shanghai Hongqiao International Airport\"],\n",
    "  effect=[0.4, 0.1],\n",
    "- ⚠️ This intervention starts **<span style=\"color:lightgreen;\">ALIVE</span>** and will die after changing the parameters. Spawn a new intervention of this kind when you need the values back to original."
   ]
  },
  {
   "cell_type": "code",
   "execution_count": 82,
   "metadata": {},
   "outputs": [
    {
     "name": "stderr",
     "output_type": "stream",
     "text": [
      "2025-03-28 23:43:25 - V1 | FireflyV1 | EPIDEMIC2.0_ADITYA_PRAKASH_B20001 - INFO -  >> 📝 PSC updated | Process: porec-0, Timeline: [[100, 100], [6002, 6002]].\n",
      "2025-03-28 23:43:25 - V1 | FireflyV1 | EPIDEMIC2.0_ADITYA_PRAKASH_B20001 - INFO -  >> 📝 Process registered | Process: porec-0.\n"
     ]
    }
   ],
   "source": [
    "epidemic_two_engine.intervene(\n",
    "    alias=\"porec\",\n",
    "    process_id=\"porec-0\",\n",
    "    intervals={100},\n",
    "    country=[\"India\", \"China\"],\n",
    "    port_names=[\n",
    "        \"Cochin Port\",\n",
    "        \"Port of Shanghai\",\n",
    "    ],\n",
    "    effect=[0.5, 0.5],\n",
    ")"
   ]
  },
  {
   "cell_type": "markdown",
   "metadata": {},
   "source": [
    "#### **🧪 Vaccine Intervention**  \n",
    "\n",
    "The following cell will implement the Vaccine Intervention 🧪. It will vaccinate a ratio of people and incurs cost on GDP and Health Resource Stockpile.\n",
    "- `id` : Give a unique id every time you create a new instance of this intervention. \n",
    "- `intervals` : The intervals when this intervention will be active.\n",
    "- `country` : The countries where this intervention will be implemented.\n",
    "- `state` : The states where this intervention will be implemented.\n",
    "- `percent_infected_vaccinated` : The ratio of infected people who will be vaccinated.\n",
    "\n",
    "**<span style=\"color:red;\">NOTE</span>** : \n",
    "- `country`, `state`, and `percent_infected_vaccinated` have to be in order and should be of the same length. If you want to assign multiple states of a country to the intervention, you can do it like this:\n",
    "  ```python\n",
    "  intervals=[[start1, end1], [start2, end2], ...],\n",
    "  country=[\"India\", \"China\"],\n",
    "  state=[\"Maharashtra\", \"Hubei\"],\n",
    "  percent_infected_vaccinated=[0.4, 0.1] ,\n",
    "- ⚠️ This intervention starts **<span style=\"color:orange;\">DORMANT</span>**, you can assign **<span style=\"color:purple;\">None</span>** but you'd have to update process status chart when you need it to be active.\n",
    "- ⚠️ It will keep on vaccinating `percent_infected_vaccinated` ratio of the people each step, so don't schedule it for more step than it takes to vaccinate everyone."
   ]
  },
  {
   "cell_type": "code",
   "execution_count": 83,
   "metadata": {},
   "outputs": [
    {
     "name": "stderr",
     "output_type": "stream",
     "text": [
      "2025-03-28 23:43:25 - V1 | FireflyV1 | EPIDEMIC2.0_ADITYA_PRAKASH_B20001 - INFO -  >> 📝 PSC updated | Process: mvacp-0, Timeline: [[100, 105], [6002, 6002]].\n",
      "2025-03-28 23:43:25 - V1 | FireflyV1 | EPIDEMIC2.0_ADITYA_PRAKASH_B20001 - INFO -  >> 📝 Process registered | Process: mvacp-0.\n"
     ]
    }
   ],
   "source": [
    "epidemic_two_engine.intervene(\n",
    "    alias=\"mvacp\",\n",
    "    process_id=\"mvacp-0\",\n",
    "    intervals=[[100, 105]],\n",
    "    country=[\"India\", \"China\"],\n",
    "    state=[\"Maharashtra\", \"Hubei\"],\n",
    "    percent_infected_vaccinated=[0.1, 0.1],\n",
    ")"
   ]
  },
  {
   "cell_type": "markdown",
   "metadata": {},
   "source": [
    "#### **🏥 General Hospital Building Intervention**  \n",
    "\n",
    "The following cell will implement the General Hospital Building Intervention 🏥. It will build a number of hospitals across various loci\n",
    "and incurs cost on GDP and Healthcare Resource Stockpile.\n",
    "- `id` : Give a unique id every time you create a new instance of this intervention. \n",
    "- `intervals` : The step at which this intervention will be implemented.\n",
    "- `country` : The countries where this intervention will be implemented.\n",
    "- `state` : The states where this intervention will be implemented.\n",
    "- `num_hospitals` : The number of hospitals to be built.\n",
    "\n",
    "**<span style=\"color:red;\">NOTE</span>** : \n",
    "- `country`, `state`, and `num_hospitals` have to be in order and should be of the same length. If you want to assign multiple states of a country to the intervention, you can do it like this:\n",
    "  ```python\n",
    "  intervals={stepx},\n",
    "  country=[\"India\", \"China\"],\n",
    "  state=[\"Maharashtra\", \"Hubei\"],\n",
    "  num_hospitals=[3, 4], # int\n",
    "- ⚠️ This intervention starts **<span style=\"color:lightgreen;\">ALIVE</span>**, and will die after changing the parameters."
   ]
  },
  {
   "cell_type": "code",
   "execution_count": 84,
   "metadata": {},
   "outputs": [
    {
     "name": "stderr",
     "output_type": "stream",
     "text": [
      "2025-03-28 23:43:25 - V1 | FireflyV1 | EPIDEMIC2.0_ADITYA_PRAKASH_B20001 - INFO -  >> 📝 PSC updated | Process: ghobp-0, Timeline: [[100, 100], [6002, 6002]].\n",
      "2025-03-28 23:43:25 - V1 | FireflyV1 | EPIDEMIC2.0_ADITYA_PRAKASH_B20001 - INFO -  >> 📝 Process registered | Process: ghobp-0.\n"
     ]
    },
    {
     "name": "stderr",
     "output_type": "stream",
     "text": [
      "2025-03-29 00:00:24 - V1 | FireflyV1 | EPIDEMIC2.0_ADITYA_PRAKASH_B20001 - INFO -  >> ⏹️ Stopping...\n"
     ]
    }
   ],
   "source": [
    "epidemic_two_engine.intervene(\n",
    "    alias=\"ghobp\",\n",
    "    process_id=\"ghobp-0\",\n",
    "    intervals={100},\n",
    "    country=[\"India\", \"China\"],\n",
    "    state=[\"Maharashtra\", \"Hubei\"],\n",
    "    num_hospitals=[3, 1],\n",
    ")"
   ]
  },
  {
   "cell_type": "markdown",
   "metadata": {},
   "source": [
    "### **🧪 Integration Testing**"
   ]
  },
  {
   "cell_type": "code",
   "execution_count": null,
   "metadata": {},
   "outputs": [],
   "source": [
    "# Test step callbacks\n",
    "def test_callback():\n",
    "    print(f\"Step {epidemic_two_engine.STEP} executed.\")\n",
    "epidemic_two_engine.register_step_callback(test_callback)\n",
    "epidemic_two_engine.run(1)"
   ]
  },
  {
   "cell_type": "code",
   "execution_count": null,
   "metadata": {},
   "outputs": [],
   "source": [
    "# Validate metrics tracking\n",
    "population_metrics = epidemic_two_engine.state.population_metrics()\n",
    "economic_metrics = epidemic_two_engine.state.economic_metrics()\n",
    "print(\"Population Metrics:\", population_metrics)\n",
    "print(\"Economic Metrics:\", economic_metrics)"
   ]
  },
  {
   "cell_type": "code",
   "execution_count": null,
   "metadata": {},
   "outputs": [],
   "source": [
    "# Test scoring system\n",
    "from src.competition import CompetitionManager\n",
    "competition = CompetitionManager(engine=epidemic_two_engine)\n",
    "competition.setup_player(name=\"Test Player\")\n",
    "competition.set_scenario(\"standard\")\n",
    "competition.setup_simulation()\n",
    "results = competition.run_simulation(steps=50)\n",
    "print(\"Results:\", results)"
   ]
  }
 ],
 "metadata": {
  "kernelspec": {
   "display_name": "Python 3",
   "language": "python",
   "name": "python3"
  },
  "language_info": {
   "codemirror_mode": {
    "name": "ipython",
    "version": 3
   },
   "file_extension": ".py",
   "mimetype": "text/x-python",
   "name": "python",
   "nbconvert_exporter": "python",
   "pygments_lexer": "ipython3",
   "version": "3.10.12"
  }
 },
 "nbformat": 4,
 "nbformat_minor": 2
}
