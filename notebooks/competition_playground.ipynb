{
  "cells": [
    {
      "cell_type": "markdown",
      "metadata": {},
      "source": [
        "# XPECTO Epidemic 2.0: Competition Playground\n",
        "\n",
        "This notebook provides the official competition environment for XPECTO Epidemic 2.0. All attempts in this notebook are recorded for the official competition. You are limited to 3 official attempts per scenario.\n",
        "\n",
        "> ⚠️ Important: Before using this notebook, we recommend practicing in the practice_playground.ipynb notebook to refine your strategies. Only use this notebook when you're ready to submit an official attempt."
      ]
    },
    {
      "cell_type": "markdown",
      "metadata": {},
      "source": [
        "## Setup\n",
        "\n",
        "First, let's set up our environment and import the necessary modules."
      ]
    },
    {
      "cell_type": "code",
      "execution_count": 1,
      "metadata": {},
      "outputs": [
        {
          "name": "stdout",
          "output_type": "stream",
          "text": [
            "Testing mode enabled: EngineV1 replaced with MockEngine\n"
          ]
        }
      ],
      "source": [
        "# Add the project root to the path\n",
        "import sys\n",
        "import os\n",
        "from pathlib import Path\n",
        "\n",
        "# Add parent directory to path for imports\n",
        "sys.path.append(str(Path.cwd().parent))\n",
        "\n",
        "# Import required modules\n",
        "from src.competition import CompetitionManager\n",
        "from src.mirage.engines.base import EngineV1 as Engine\n",
        "\n",
        "# Import visualization libraries\n",
        "import pandas as pd\n",
        "import numpy as np\n",
        "import matplotlib.pyplot as plt\n",
        "import seaborn as sns\n",
        "\n",
        "# Set up visualization\n",
        "plt.style.use('seaborn-whitegrid')\n",
        "sns.set(font_scale=1.2)\n",
        "pd.set_option('display.max_columns', None)"
      ]
    },
    {
      "cell_type": "markdown",
      "metadata": {},
      "source": [
        "## Initialize Competition System\n",
        "\n",
        "Now, let's initialize the competition system and register as a player."
      ]
    },
    {
      "cell_type": "code",
      "execution_count": 2,
      "metadata": {},
      "outputs": [
        {
          "name": "stdout",
          "output_type": "stream",
          "text": [
            "Player registered: Your Name (ID: 40628f7e-dbcc-41c7-8ea1-3954fa04587d)\n",
            "Registered as player: Your Name (ID: 40628f7e-dbcc-41c7-8ea1-3954fa04587d)\n",
            "Mode set to: Competition\n",
            "Competition mode enabled - attempts will count toward your official score\n"
          ]
        }
      ],
      "source": [
        "# Create an epidemic engine with the standard configuration\n",
        "engine = Engine()\n",
        "\n",
        "# Create competition manager with the competition data directory\n",
        "competition = CompetitionManager(data_dir=\"competition_data\", engine=engine)\n",
        "\n",
        "# Register as a player - use your real name for the official competition\n",
        "player_name = \"Your Name\" # Change this to your name\n",
        "player_id = competition.setup_player(name=player_name)\n",
        "print(f\"Registered as player: {player_name} (ID: {player_id})\")\n",
        "\n",
        "# Ensure we're in competition mode\n",
        "competition.toggle_practice_mode(is_practice=False)\n",
        "print(\"Competition mode enabled - attempts will count toward your official score\")"
      ]
    },
    {
      "cell_type": "markdown",
      "metadata": {},
      "source": [
        "## Available Scenarios\n",
        "\n",
        "Let's check what scenarios are available in the competition."
      ]
    },
    {
      "cell_type": "code",
      "execution_count": 3,
      "metadata": {},
      "outputs": [
        {
          "data": {
            "text/html": [
              "<div>\n",
              "<style scoped>\n",
              "    .dataframe tbody tr th:only-of-type {\n",
              "        vertical-align: middle;\n",
              "    }\n",
              "\n",
              "    .dataframe tbody tr th {\n",
              "        vertical-align: top;\n",
              "    }\n",
              "\n",
              "    .dataframe thead th {\n",
              "        text-align: right;\n",
              "    }\n",
              "</style>\n",
              "<table border=\"1\" class=\"dataframe\">\n",
              "  <thead>\n",
              "    <tr style=\"text-align: right;\">\n",
              "      <th></th>\n",
              "      <th>ID</th>\n",
              "      <th>Name</th>\n",
              "      <th>Difficulty</th>\n",
              "      <th>R0</th>\n",
              "      <th>Resources</th>\n",
              "    </tr>\n",
              "  </thead>\n",
              "  <tbody>\n",
              "    <tr>\n",
              "      <th>0</th>\n",
              "      <td>standard</td>\n",
              "      <td>Standard Outbreak</td>\n",
              "      <td>standard</td>\n",
              "      <td>2.5</td>\n",
              "      <td>1000</td>\n",
              "    </tr>\n",
              "    <tr>\n",
              "      <th>1</th>\n",
              "      <td>challenging</td>\n",
              "      <td>Challenging Outbreak</td>\n",
              "      <td>challenging</td>\n",
              "      <td>3.5</td>\n",
              "      <td>700</td>\n",
              "    </tr>\n",
              "  </tbody>\n",
              "</table>\n",
              "</div>"
            ],
            "text/plain": [
              "            ID                  Name   Difficulty   R0  Resources\n",
              "0     standard     Standard Outbreak     standard  2.5       1000\n",
              "1  challenging  Challenging Outbreak  challenging  3.5        700"
            ]
          },
          "metadata": {},
          "output_type": "display_data"
        },
        {
          "data": {
            "text/plain": [
              "[{'id': 'standard',\n",
              "  'name': 'Standard Outbreak',\n",
              "  'description': 'A standard epidemic outbreak scenario with normal parameters.',\n",
              "  'seed': 'standard_2023',\n",
              "  'r0': 2.5,\n",
              "  'initial_infections': {'capital': 100},\n",
              "  'initial_resources': 1000,\n",
              "  'difficulty': 'standard',\n",
              "  'parameters': {'disease_mortality': 0.02,\n",
              "   'treatment_effectiveness': 0.7,\n",
              "   'vaccine_development_time': 120,\n",
              "   'economic_impact_factor': 1.0}},\n",
              " {'id': 'challenging',\n",
              "  'name': 'Challenging Outbreak',\n",
              "  'description': 'A more difficult scenario with multiple infection sites and higher R0.',\n",
              "  'seed': 'challenging_2023',\n",
              "  'r0': 3.5,\n",
              "  'initial_infections': {'capital': 50,\n",
              "   'major_city_1': 30,\n",
              "   'major_city_2': 20},\n",
              "  'initial_resources': 700,\n",
              "  'difficulty': 'challenging',\n",
              "  'parameters': {'disease_mortality': 0.03,\n",
              "   'treatment_effectiveness': 0.6,\n",
              "   'vaccine_development_time': 150,\n",
              "   'economic_impact_factor': 1.2}}]"
            ]
          },
          "execution_count": 3,
          "metadata": {},
          "output_type": "execute_result"
        }
      ],
      "source": [
        "# List available scenarios\n",
        "competition.list_available_scenarios()"
      ]
    },
    {
      "cell_type": "markdown",
      "metadata": {},
      "source": [
        "## Select a Scenario\n",
        "\n",
        "Choose a scenario to work with. You can modify this cell to select different scenarios."
      ]
    },
    {
      "cell_type": "code",
      "execution_count": 4,
      "metadata": {},
      "outputs": [
        {
          "name": "stdout",
          "output_type": "stream",
          "text": [
            "Current scenario set to: Standard Outbreak (standard)\n"
          ]
        },
        {
          "data": {
            "text/html": [
              "\n",
              "        <h2>Standard Outbreak</h2>\n",
              "        <p><em>A standard epidemic outbreak scenario with normal parameters.</em></p>\n",
              "        <h3>Key Parameters:</h3>\n",
              "        <ul>\n",
              "            <li><strong>R0:</strong> 2.5</li>\n",
              "            <li><strong>Initial Resources:</strong> 1000</li>\n",
              "            <li><strong>Difficulty:</strong> standard</li>\n",
              "        </ul>\n",
              "        \n",
              "        <h3>Initial Infections:</h3>\n",
              "        <ul>\n",
              "        <li><strong>capital:</strong> 100 cases</li>\n",
              "        </ul>\n",
              "        \n",
              "        <h3>Additional Parameters:</h3>\n",
              "        <ul>\n",
              "        <li><strong>disease_mortality:</strong> 0.02</li><li><strong>treatment_effectiveness:</strong> 0.7</li><li><strong>vaccine_development_time:</strong> 120</li><li><strong>economic_impact_factor:</strong> 1.0</li></ul>"
            ],
            "text/plain": [
              "<IPython.core.display.HTML object>"
            ]
          },
          "metadata": {},
          "output_type": "display_data"
        },
        {
          "name": "stdout",
          "output_type": "stream",
          "text": [
            "\n",
            "You have 3 official attempts remaining for the 'standard' scenario.\n"
          ]
        }
      ],
      "source": [
        "# Select the scenario to use\n",
        "scenario_id = \"standard\" # Options: \"standard\", \"challenging\", etc.\n",
        "competition.set_scenario(scenario_id)\n",
        "competition.display_scenario_details()\n",
        "\n",
        "# Check how many attempts you have remaining for this scenario\n",
        "remaining_attempts = competition.get_remaining_attempts()\n",
        "print(f\"\\nYou have {remaining_attempts} official attempts remaining for the '{scenario_id}' scenario.\")"
      ]
    },
    {
      "cell_type": "markdown",
      "metadata": {},
      "source": [
        "## Define Your Strategy\n",
        "\n",
        "Define your intervention strategy. This should be your final, refined strategy that you want to submit for the competition."
      ]
    },
    {
      "cell_type": "code",
      "execution_count": 5,
      "metadata": {},
      "outputs": [],
      "source": [
        "# Define your competition strategy here\n",
        "def competition_strategy(engine):\n",
        "    \"\"\"\n",
        "    My official competition strategy for epidemic intervention.\n",
        "    \"\"\"\n",
        "    # Initial setup\n",
        "    engine.set_lockdown_level(0.6) # Start with significant restrictions\n",
        "    engine.allocate_resources('healthcare', 250) # Initial healthcare investment\n",
        "    engine.allocate_resources('research', 100) # Some research investment\n",
        "    \n",
        "    # Define a callback for dynamic response\n",
        "    def adaptive_response(step, state):\n",
        "        # Extract key metrics from the current state\n",
        "        infection_rate = state.population.infected / state.population.total\n",
        "        economic_health = state.economy.current_gdp / state.economy.initial_gdp\n",
        "        healthcare_capacity = state.healthcare.capacity / state.population.total\n",
        "        \n",
        "        # Early phase strategy (first 60 days)\n",
        "        if step < 60:\n",
        "            if infection_rate > 0.08: # Rising infections\n",
        "                engine.set_lockdown_level(0.8) # Strong lockdown\n",
        "                engine.allocate_resources('healthcare', 350) # Boost healthcare\n",
        "                engine.restrict_travel(True) # Restrict travel\n",
        "            else: # Controlled situation\n",
        "                engine.set_lockdown_level(0.6) # Maintain restrictions\n",
        "                engine.allocate_resources('healthcare', 250) # Standard healthcare\n",
        "                engine.restrict_travel(True) # Keep travel restricted\n",
        "        \n",
        "        # Mid phase strategy (days 60-180)\n",
        "        elif 60 <= step < 180:\n",
        "            # High infection crisis\n",
        "            if infection_rate > 0.15: \n",
        "                engine.set_lockdown_level(0.9) # Maximum lockdown\n",
        "                engine.allocate_resources('healthcare', 400) # Maximum healthcare\n",
        "                engine.allocate_resources('research', 150) # Increased research\n",
        "                engine.restrict_travel(True) # Maintain travel restrictions\n",
        "            \n",
        "            # Moderate infection concerns\n",
        "            elif infection_rate > 0.05:\n",
        "                # Balance approach based on economic health\n",
        "                if economic_health < 0.6: # Poor economy\n",
        "                    engine.set_lockdown_level(0.6) # Lower restrictions to help economy\n",
        "                    engine.allocate_resources('economic', 200) # Economic stimulus\n",
        "                    engine.allocate_resources('healthcare', 250) # Maintain healthcare\n",
        "                else: # Healthy economy, focus on containment\n",
        "                    engine.set_lockdown_level(0.7) # Higher restrictions\n",
        "                    engine.allocate_resources('healthcare', 300) # Increased healthcare\n",
        "                    engine.allocate_resources('research', 100) # Maintain research\n",
        "            \n",
        "                # Adjust travel restrictions based on infection trends\n",
        "                engine.restrict_travel(infection_rate > 0.08)\n",
        "            \n",
        "            # Low infection, recovery phase\n",
        "            else:\n",
        "                engine.set_lockdown_level(0.4) # Reduced restrictions\n",
        "                engine.allocate_resources('economic', 250) # Focus on economy\n",
        "                engine.allocate_resources('healthcare', 150) # Reduced healthcare\n",
        "                engine.restrict_travel(False) # Open travel\n",
        "        \n",
        "        # Late phase strategy (day 180+)\n",
        "        else:\n",
        "            # Infection resurgence\n",
        "            if infection_rate > 0.1: \n",
        "                engine.set_lockdown_level(0.8) # Strong restrictions\n",
        "                engine.allocate_resources('healthcare', 350) # Strong healthcare\n",
        "                engine.restrict_travel(True) # Restrict travel\n",
        "            \n",
        "            # Controlled but present infection\n",
        "            elif infection_rate > 0.02:\n",
        "                # Balanced approach with economic focus\n",
        "                engine.set_lockdown_level(0.5) # Moderate restrictions\n",
        "                engine.allocate_resources('economic', 200) # Economic focus\n",
        "                engine.allocate_resources('healthcare', 200) # Maintained healthcare\n",
        "                engine.restrict_travel(False) # Allow travel for economy\n",
        "            \n",
        "            # Nearly contained epidemic\n",
        "            else:\n",
        "                # Recovery phase\n",
        "                engine.set_lockdown_level(0.2) # Minimal restrictions\n",
        "                engine.allocate_resources('economic', 300) # Strong economic recovery\n",
        "                engine.allocate_resources('healthcare', 100) # Basic healthcare maintenance\n",
        "                engine.restrict_travel(False) # Open travel\n",
        "        \n",
        "        # Healthcare capacity management throughout all phases\n",
        "        if healthcare_capacity < 0.01: # Critical healthcare shortage\n",
        "            engine.allocate_resources('healthcare', max(400, engine.get_allocated_resources('healthcare') + 100))\n",
        "    \n",
        "    # Register the callback\n",
        "    engine.register_step_callback(adaptive_response)"
      ]
    },
    {
      "cell_type": "markdown",
      "metadata": {},
      "source": [
        "## Run Official Competition Attempt\n",
        "\n",
        "⚠️ Warning: This will count as one of your limited official attempts. Only proceed when you're ready."
      ]
    },
    {
      "cell_type": "code",
      "execution_count": 6,
      "metadata": {},
      "outputs": [
        {
          "name": "stdout",
          "output_type": "stream",
          "text": [
            "Warning: Engine doesn't have standard configuration methods. Basic configuration applied.\n",
            "Scenario 'Standard Outbreak' configured with slight variations:\n",
            "  - R0: 2.40 (base: 2.5)\n",
            "  - Initial infections: 108 across regions (base: 100)\n",
            "  - Resources: 986 (base: 1000)\n",
            "Simulation configured for scenario: Standard Outbreak\n",
            "\n",
            "Running official competition attempt...\n",
            "\n",
            "Official attempt completed and saved with ID: True\n",
            "You have 1 attempts remaining for this scenario.\n",
            "\n",
            "Your competition results:\n"
          ]
        },
        {
          "data": {
            "text/html": [
              "\n",
              "        <h2>Competition Score Breakdown</h2>\n",
              "        <table style=\"width:100%; border-collapse:collapse;\">\n",
              "            <tr style=\"background-color:#333366; color:white;\">\n",
              "                <th>Component</th>\n",
              "                <th>Value</th>\n",
              "                <th>Weight</th>\n",
              "                <th>Contribution</th>\n",
              "            </tr>\n",
              "        \n",
              "            <tr>\n",
              "                <td><strong>Population Survived</strong></td>\n",
              "                <td>0.9995</td>\n",
              "                <td>0.30</td>\n",
              "                <td>0.2999</td>\n",
              "            </tr>\n",
              "            \n",
              "            <tr>\n",
              "                <td><strong>GDP Preserved</strong></td>\n",
              "                <td>0.0000</td>\n",
              "                <td>0.20</td>\n",
              "                <td>0.0000</td>\n",
              "            </tr>\n",
              "            \n",
              "            <tr>\n",
              "                <td><strong>Infection Control</strong></td>\n",
              "                <td>0.9901</td>\n",
              "                <td>0.20</td>\n",
              "                <td>0.1980</td>\n",
              "            </tr>\n",
              "            \n",
              "            <tr>\n",
              "                <td><strong>Resource Efficiency</strong></td>\n",
              "                <td>0.5840</td>\n",
              "                <td>0.15</td>\n",
              "                <td>0.0876</td>\n",
              "            </tr>\n",
              "            \n",
              "            <tr>\n",
              "                <td><strong>Time to Containment</strong></td>\n",
              "                <td>0.0000</td>\n",
              "                <td>0.15</td>\n",
              "                <td>0.0000</td>\n",
              "            </tr>\n",
              "            \n",
              "        <tr style=\"background-color:#f2f2f2; font-weight:bold;\">\n",
              "            <td>Final Score</td>\n",
              "            <td colspan=\"2\"></td>\n",
              "            <td>0.5855</td>\n",
              "        </tr>\n",
              "        </table>\n",
              "        "
            ],
            "text/plain": [
              "<IPython.core.display.HTML object>"
            ]
          },
          "metadata": {},
          "output_type": "display_data"
        }
      ],
      "source": [
        "# Final confirmation before running\n",
        "confirmation = input(f\"This will count as an official attempt for the '{scenario_id}' scenario. Type 'YES' to confirm: \")\n",
        "\n",
        "if confirmation.upper() == 'YES':\n",
        "    # Set up the simulation\n",
        "    competition.setup_simulation()\n",
        "    \n",
        "    print(\"\\nRunning official competition attempt...\")\n",
        "    # Run the simulation with your strategy\n",
        "    results = competition.run_simulation(\n",
        "        steps=365, # Simulate for 1 year\n",
        "        interventions=[competition_strategy] # Use your competition strategy\n",
        "    )\n",
        "    \n",
        "    # Save the results\n",
        "    attempt_id = competition.save_attempt(results)\n",
        "    \n",
        "    print(f\"\\nOfficial attempt completed and saved with ID: {attempt_id}\")\n",
        "    print(f\"You have {competition.get_remaining_attempts()} attempts remaining for this scenario.\")\n",
        "    \n",
        "    # Display the results\n",
        "    print(\"\\nYour competition results:\")\n",
        "    competition.display_score(results)\n",
        "else:\n",
        "    print(\"Attempt cancelled. No official attempt was recorded.\")"
      ]
    },
    {
      "cell_type": "markdown",
      "metadata": {},
      "source": [
        "## View Your Results"
      ]
    },
    {
      "cell_type": "code",
      "execution_count": 7,
      "metadata": {},
      "outputs": [
        {
          "data": {
            "text/html": [
              "<div>\n",
              "<style scoped>\n",
              "    .dataframe tbody tr th:only-of-type {\n",
              "        vertical-align: middle;\n",
              "    }\n",
              "\n",
              "    .dataframe tbody tr th {\n",
              "        vertical-align: top;\n",
              "    }\n",
              "\n",
              "    .dataframe thead th {\n",
              "        text-align: right;\n",
              "    }\n",
              "</style>\n",
              "<table border=\"1\" class=\"dataframe\">\n",
              "  <thead>\n",
              "    <tr style=\"text-align: right;\">\n",
              "      <th></th>\n",
              "      <th>Timestamp</th>\n",
              "      <th>Scenario</th>\n",
              "      <th>Official</th>\n",
              "      <th>Score</th>\n",
              "      <th>Pop. Survived</th>\n",
              "      <th>GDP</th>\n",
              "      <th>Infection Control</th>\n",
              "      <th>Resources</th>\n",
              "      <th>Containment</th>\n",
              "    </tr>\n",
              "  </thead>\n",
              "  <tbody>\n",
              "    <tr>\n",
              "      <th>0</th>\n",
              "      <td>2025-03-30 15:12</td>\n",
              "      <td>standard</td>\n",
              "      <td>Yes</td>\n",
              "      <td>0.5855</td>\n",
              "      <td>1.00</td>\n",
              "      <td>0.00</td>\n",
              "      <td>0.99</td>\n",
              "      <td>0.58</td>\n",
              "      <td>0.00</td>\n",
              "    </tr>\n",
              "    <tr>\n",
              "      <th>1</th>\n",
              "      <td>2025-03-30 15:12</td>\n",
              "      <td>standard</td>\n",
              "      <td>Yes</td>\n",
              "      <td>0.5855</td>\n",
              "      <td>1.00</td>\n",
              "      <td>0.00</td>\n",
              "      <td>0.99</td>\n",
              "      <td>0.58</td>\n",
              "      <td>0.00</td>\n",
              "    </tr>\n",
              "  </tbody>\n",
              "</table>\n",
              "</div>"
            ],
            "text/plain": [
              "          Timestamp  Scenario Official   Score Pop. Survived   GDP  \\\n",
              "0  2025-03-30 15:12  standard      Yes  0.5855          1.00  0.00   \n",
              "1  2025-03-30 15:12  standard      Yes  0.5855          1.00  0.00   \n",
              "\n",
              "  Infection Control Resources Containment  \n",
              "0              0.99      0.58        0.00  \n",
              "1              0.99      0.58        0.00  "
            ]
          },
          "metadata": {},
          "output_type": "display_data"
        }
      ],
      "source": [
        "# Display your competition attempts\n",
        "competition.display_player_attempts()"
      ]
    },
    {
      "cell_type": "markdown",
      "metadata": {},
      "source": [
        "## View The Leaderboard\n",
        "\n",
        "Let's check where your attempt ranks on the leaderboard."
      ]
    },
    {
      "cell_type": "code",
      "execution_count": 8,
      "metadata": {},
      "outputs": [
        {
          "name": "stdout",
          "output_type": "stream",
          "text": [
            "No entries in the leaderboard yet\n"
          ]
        }
      ],
      "source": [
        "# Display the current leaderboard\n",
        "competition.display_leaderboard()"
      ]
    },
    {
      "cell_type": "markdown",
      "metadata": {},
      "source": [
        "## Save and Export Results\n",
        "\n",
        "You can export your results for submission or further analysis."
      ]
    },
    {
      "cell_type": "code",
      "execution_count": 9,
      "metadata": {},
      "outputs": [
        {
          "name": "stdout",
          "output_type": "stream",
          "text": [
            "Best result exported to: results_YourNamestandard.json\n",
            "Your best result exported to: results_YourNamestandard.json\n",
            "No entries in the leaderboard to save\n",
            "Current leaderboard saved to: leaderboard.json\n"
          ]
        }
      ],
      "source": [
        "# Export your best result for the current scenario\n",
        "export_path = f\"results_{player_name.replace(' ', '')}{scenario_id}.json\"\n",
        "competition.export_best_result(export_path)\n",
        "print(f\"Your best result exported to: {export_path}\")\n",
        "\n",
        "# You can also export the current leaderboard\n",
        "competition.save_leaderboard(\"leaderboard.json\")\n",
        "print(\"Current leaderboard saved to: leaderboard.json\")"
      ]
    },
    {
      "cell_type": "markdown",
      "metadata": {},
      "source": [
        "## Analytics: Performance Breakdown\n",
        "\n",
        "Let's analyze your performance in more detail."
      ]
    },
    {
      "cell_type": "code",
      "execution_count": 10,
      "metadata": {},
      "outputs": [
        {
          "name": "stdout",
          "output_type": "stream",
          "text": [
            "   step\n",
            "0     0\n",
            "1     1\n",
            "2     2\n",
            "3     3\n",
            "4     4\n",
            "Columns in metrics_df: Index(['step'], dtype='object')\n"
          ]
        },
        {
          "ename": "KeyError",
          "evalue": "'infection_rate'",
          "output_type": "error",
          "traceback": [
            "\u001b[0;31m---------------------------------------------------------------------------\u001b[0m",
            "\u001b[0;31mKeyError\u001b[0m                                  Traceback (most recent call last)",
            "File \u001b[0;32m~/.local/lib/python3.10/site-packages/pandas/core/indexes/base.py:3790\u001b[0m, in \u001b[0;36mIndex.get_loc\u001b[0;34m(self, key)\u001b[0m\n\u001b[1;32m   3789\u001b[0m \u001b[38;5;28;01mtry\u001b[39;00m:\n\u001b[0;32m-> 3790\u001b[0m     \u001b[38;5;28;01mreturn\u001b[39;00m \u001b[38;5;28;43mself\u001b[39;49m\u001b[38;5;241;43m.\u001b[39;49m\u001b[43m_engine\u001b[49m\u001b[38;5;241;43m.\u001b[39;49m\u001b[43mget_loc\u001b[49m\u001b[43m(\u001b[49m\u001b[43mcasted_key\u001b[49m\u001b[43m)\u001b[49m\n\u001b[1;32m   3791\u001b[0m \u001b[38;5;28;01mexcept\u001b[39;00m \u001b[38;5;167;01mKeyError\u001b[39;00m \u001b[38;5;28;01mas\u001b[39;00m err:\n",
            "File \u001b[0;32mindex.pyx:152\u001b[0m, in \u001b[0;36mpandas._libs.index.IndexEngine.get_loc\u001b[0;34m()\u001b[0m\n",
            "File \u001b[0;32mindex.pyx:181\u001b[0m, in \u001b[0;36mpandas._libs.index.IndexEngine.get_loc\u001b[0;34m()\u001b[0m\n",
            "File \u001b[0;32mpandas/_libs/hashtable_class_helper.pxi:7080\u001b[0m, in \u001b[0;36mpandas._libs.hashtable.PyObjectHashTable.get_item\u001b[0;34m()\u001b[0m\n",
            "File \u001b[0;32mpandas/_libs/hashtable_class_helper.pxi:7088\u001b[0m, in \u001b[0;36mpandas._libs.hashtable.PyObjectHashTable.get_item\u001b[0;34m()\u001b[0m\n",
            "\u001b[0;31mKeyError\u001b[0m: 'infection_rate'",
            "\nThe above exception was the direct cause of the following exception:\n",
            "\u001b[0;31mKeyError\u001b[0m                                  Traceback (most recent call last)",
            "Cell \u001b[0;32mIn[10], line 16\u001b[0m\n\u001b[1;32m     14\u001b[0m \u001b[38;5;66;03m# Plot infection rate over time\u001b[39;00m\n\u001b[1;32m     15\u001b[0m plt\u001b[38;5;241m.\u001b[39msubplot(\u001b[38;5;241m2\u001b[39m, \u001b[38;5;241m2\u001b[39m, \u001b[38;5;241m1\u001b[39m)\n\u001b[0;32m---> 16\u001b[0m plt\u001b[38;5;241m.\u001b[39mplot(metrics_df[\u001b[38;5;124m'\u001b[39m\u001b[38;5;124mstep\u001b[39m\u001b[38;5;124m'\u001b[39m], \u001b[43mmetrics_df\u001b[49m\u001b[43m[\u001b[49m\u001b[38;5;124;43m'\u001b[39;49m\u001b[38;5;124;43minfection_rate\u001b[39;49m\u001b[38;5;124;43m'\u001b[39;49m\u001b[43m]\u001b[49m, \u001b[38;5;124m'\u001b[39m\u001b[38;5;124mr-\u001b[39m\u001b[38;5;124m'\u001b[39m, linewidth\u001b[38;5;241m=\u001b[39m\u001b[38;5;241m2\u001b[39m)\n\u001b[1;32m     17\u001b[0m plt\u001b[38;5;241m.\u001b[39mtitle(\u001b[38;5;124m'\u001b[39m\u001b[38;5;124mInfection Rate Over Time\u001b[39m\u001b[38;5;124m'\u001b[39m, fontsize\u001b[38;5;241m=\u001b[39m\u001b[38;5;241m14\u001b[39m)\n\u001b[1;32m     18\u001b[0m plt\u001b[38;5;241m.\u001b[39mxlabel(\u001b[38;5;124m'\u001b[39m\u001b[38;5;124mDays\u001b[39m\u001b[38;5;124m'\u001b[39m, fontsize\u001b[38;5;241m=\u001b[39m\u001b[38;5;241m12\u001b[39m)\n",
            "File \u001b[0;32m~/.local/lib/python3.10/site-packages/pandas/core/frame.py:3893\u001b[0m, in \u001b[0;36mDataFrame.__getitem__\u001b[0;34m(self, key)\u001b[0m\n\u001b[1;32m   3891\u001b[0m \u001b[38;5;28;01mif\u001b[39;00m \u001b[38;5;28mself\u001b[39m\u001b[38;5;241m.\u001b[39mcolumns\u001b[38;5;241m.\u001b[39mnlevels \u001b[38;5;241m>\u001b[39m \u001b[38;5;241m1\u001b[39m:\n\u001b[1;32m   3892\u001b[0m     \u001b[38;5;28;01mreturn\u001b[39;00m \u001b[38;5;28mself\u001b[39m\u001b[38;5;241m.\u001b[39m_getitem_multilevel(key)\n\u001b[0;32m-> 3893\u001b[0m indexer \u001b[38;5;241m=\u001b[39m \u001b[38;5;28;43mself\u001b[39;49m\u001b[38;5;241;43m.\u001b[39;49m\u001b[43mcolumns\u001b[49m\u001b[38;5;241;43m.\u001b[39;49m\u001b[43mget_loc\u001b[49m\u001b[43m(\u001b[49m\u001b[43mkey\u001b[49m\u001b[43m)\u001b[49m\n\u001b[1;32m   3894\u001b[0m \u001b[38;5;28;01mif\u001b[39;00m is_integer(indexer):\n\u001b[1;32m   3895\u001b[0m     indexer \u001b[38;5;241m=\u001b[39m [indexer]\n",
            "File \u001b[0;32m~/.local/lib/python3.10/site-packages/pandas/core/indexes/base.py:3797\u001b[0m, in \u001b[0;36mIndex.get_loc\u001b[0;34m(self, key)\u001b[0m\n\u001b[1;32m   3792\u001b[0m     \u001b[38;5;28;01mif\u001b[39;00m \u001b[38;5;28misinstance\u001b[39m(casted_key, \u001b[38;5;28mslice\u001b[39m) \u001b[38;5;129;01mor\u001b[39;00m (\n\u001b[1;32m   3793\u001b[0m         \u001b[38;5;28misinstance\u001b[39m(casted_key, abc\u001b[38;5;241m.\u001b[39mIterable)\n\u001b[1;32m   3794\u001b[0m         \u001b[38;5;129;01mand\u001b[39;00m \u001b[38;5;28many\u001b[39m(\u001b[38;5;28misinstance\u001b[39m(x, \u001b[38;5;28mslice\u001b[39m) \u001b[38;5;28;01mfor\u001b[39;00m x \u001b[38;5;129;01min\u001b[39;00m casted_key)\n\u001b[1;32m   3795\u001b[0m     ):\n\u001b[1;32m   3796\u001b[0m         \u001b[38;5;28;01mraise\u001b[39;00m InvalidIndexError(key)\n\u001b[0;32m-> 3797\u001b[0m     \u001b[38;5;28;01mraise\u001b[39;00m \u001b[38;5;167;01mKeyError\u001b[39;00m(key) \u001b[38;5;28;01mfrom\u001b[39;00m \u001b[38;5;21;01merr\u001b[39;00m\n\u001b[1;32m   3798\u001b[0m \u001b[38;5;28;01mexcept\u001b[39;00m \u001b[38;5;167;01mTypeError\u001b[39;00m:\n\u001b[1;32m   3799\u001b[0m     \u001b[38;5;66;03m# If we have a listlike key, _check_indexing_error will raise\u001b[39;00m\n\u001b[1;32m   3800\u001b[0m     \u001b[38;5;66;03m#  InvalidIndexError. Otherwise we fall through and re-raise\u001b[39;00m\n\u001b[1;32m   3801\u001b[0m     \u001b[38;5;66;03m#  the TypeError.\u001b[39;00m\n\u001b[1;32m   3802\u001b[0m     \u001b[38;5;28mself\u001b[39m\u001b[38;5;241m.\u001b[39m_check_indexing_error(key)\n",
            "\u001b[0;31mKeyError\u001b[0m: 'infection_rate'"
          ]
        },
        {
          "data": {
            "image/png": "[encoded data removed]",
            "text/plain": [
              "<Figure size 1400x800 with 1 Axes>"
            ]
          },
          "metadata": {},
          "output_type": "display_data"
        }
      ],
      "source": [
        "# Get detailed metrics from your latest attempt\n",
        "metrics = competition.get_detailed_metrics()\n",
        "\n",
        "# Create a dataframe for visualization\n",
        "if metrics:\n",
        "    metrics_df = pd.DataFrame(metrics)\n",
        "    \n",
        "    # Plot time series data\n",
        "    print(metrics_df.head())  # See if `infection_rate` exists and has valid values\n",
        "    print(\"Columns in metrics_df:\", metrics_df.columns)  # Check if `infection_rate` exists\n",
        "\n",
        "    plt.figure(figsize=(14, 8))\n",
        "    \n",
        "    # Plot infection rate over time\n",
        "    plt.subplot(2, 2, 1)\n",
        "    plt.plot(metrics_df['step'], metrics_df['infection_rate'], 'r-', linewidth=2)\n",
        "    plt.title('Infection Rate Over Time', fontsize=14)\n",
        "    plt.xlabel('Days', fontsize=12)\n",
        "    plt.ylabel('Infection Rate', fontsize=12)\n",
        "    plt.grid(True, alpha=0.3)\n",
        "    \n",
        "    # Plot GDP over time\n",
        "    plt.subplot(2, 2, 2)\n",
        "    plt.plot(metrics_df['step'], metrics_df['gdp'], 'g-', linewidth=2)\n",
        "    plt.title('GDP Over Time', fontsize=14)\n",
        "    plt.xlabel('Days', fontsize=12)\n",
        "    plt.ylabel('GDP', fontsize=12)\n",
        "    plt.grid(True, alpha=0.3)\n",
        "    \n",
        "    # Plot resource allocation over time\n",
        "    plt.subplot(2, 2, 3)\n",
        "    plt.plot(metrics_df['step'], metrics_df['healthcare_resources'], 'b-', label='Healthcare')\n",
        "    plt.plot(metrics_df['step'], metrics_df['economic_resources'], 'y-', label='Economic')\n",
        "    plt.plot(metrics_df['step'], metrics_df['research_resources'], 'c-', label='Research')\n",
        "    plt.title('Resource Allocation Over Time', fontsize=14)\n",
        "    plt.xlabel('Days', fontsize=12)\n",
        "    plt.ylabel('Resources', fontsize=12)\n",
        "    plt.legend()\n",
        "    plt.grid(True, alpha=0.3)\n",
        "    \n",
        "    # Plot lockdown level over time\n",
        "    plt.subplot(2, 2, 4)\n",
        "    plt.plot(metrics_df['step'], metrics_df['lockdown_level'], 'k-', linewidth=2)\n",
        "    plt.title('Lockdown Level Over Time', fontsize=14)\n",
        "    plt.xlabel('Days', fontsize=12)\n",
        "    plt.ylabel('Lockdown Level', fontsize=12)\n",
        "    plt.grid(True, alpha=0.3)\n",
        "    \n",
        "    plt.tight_layout()\n",
        "    plt.show()\n",
        "else:\n",
        "    print(\"No detailed metrics available for analysis.\")"
      ]
    }
  ],
  "metadata": {
    "kernelspec": {
      "display_name": "Python 3",
      "language": "python",
      "name": "python3"
    },
    "language_info": {
      "codemirror_mode": {
        "name": "ipython",
        "version": 3
      },
      "file_extension": ".py",
      "mimetype": "text/x-python",
      "name": "python",
      "nbconvert_exporter": "python",
      "pygments_lexer": "ipython3",
      "version": "3.10.12"
    }
  },
  "nbformat": 4,
  "nbformat_minor": 4
}
