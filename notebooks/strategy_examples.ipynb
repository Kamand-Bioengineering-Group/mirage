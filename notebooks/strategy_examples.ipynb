{
 "cells": [
  {
   "cell_type": "markdown",
   "metadata": {},
   "source": [
    "# XPECTO Epidemic 2.0: Strategy Examples\n",
    "\n",
    "This notebook contains a collection of intervention strategies for managing epidemics in the XPECTO competition, ranging from simple to advanced. Each approach is explained step by step to help you understand how to develop effective strategies."
   ]
  },
  {
   "cell_type": "markdown",
   "metadata": {},
   "source": [
    "## Setup\n",
    "\n",
    "First, let's set up our environment and import the necessary modules."
   ]
  },
  {
   "cell_type": "code",
   "execution_count": null,
   "metadata": {},
   "outputs": [],
   "source": [
    "# Add the project root to the path\n",
    "import sys\n",
    "import os\n",
    "from pathlib import Path\n",
    "\n",
    "# Add parent directory to path for imports\n",
    "sys.path.append(str(Path.cwd().parent))\n",
    "\n",
    "# Import required modules\n",
    "from src.competition import CompetitionManager\n",
    "from src.competition.testing.enhanced_engine import EnhancedEngine as Engine\n",
    "\n",
    "# Import visualization libraries\n",
    "import pandas as pd\n",
    "import numpy as np\n",
    "import matplotlib.pyplot as plt\n",
    "import seaborn as sns\n",
    "import src.competition.utils as utils\n",
    "\n",
    "# Set up visualization\n",
    "plt.style.use('seaborn-whitegrid')\n",
    "sns.set(font_scale=1.2)\n",
    "pd.set_option('display.max_columns', None)"
   ]
  },
  {
   "cell_type": "markdown",
   "metadata": {},
   "source": [
    "## Initialize Competition System\n",
    "\n",
    "Set up the competition environment in practice mode to test our strategies."
   ]
  },
  {
   "cell_type": "code",
   "execution_count": null,
   "metadata": {},
   "outputs": [],
   "source": [
    "# Create an epidemic engine\n",
    "engine = Engine()\n",
    "\n",
    "# Create competition manager with a practice data directory\n",
    "competition = CompetitionManager(data_dir=\"practice_data\", engine=engine)\n",
    "\n",
    "# Register as a player\n",
    "player_name = \"Your Name\"  # Change this to your name\n",
    "player_id = competition.setup_player(name=player_name)\n",
    "print(f\"Registered as player: {player_name} (ID: {player_id})\")\n",
    "\n",
    "# Ensure we're in practice mode\n",
    "competition.toggle_practice_mode(is_practice=True)\n",
    "print(\"Practice mode enabled - attempts will not count for competition\")"
   ]
  },
  {
   "cell_type": "markdown",
   "metadata": {},
   "source": [
    "## Available Engine Controls\n",
    "\n",
    "Before we dive into specific strategies, let's review the key control methods provided by the engine:\n",
    "\n",
    "1. **Lockdown Control**\n",
    "   - `engine.set_lockdown_level(level)` - Sets lockdown severity (0.0-1.0)\n",
    "   \n",
    "2. **Resource Allocation**\n",
    "   - `engine.allocate_resources(category, amount)` - Allocates resources to categories like healthcare, economic, research, testing\n",
    "   \n",
    "3. **Travel Restrictions**\n",
    "   - `engine.restrict_travel(should_restrict)` - Enables/disables travel restrictions\n",
    "   \n",
    "4. **Regional Controls** (Enhanced Engine only)\n",
    "   - `engine.set_regional_lockdown(region, level)` - Region-specific lockdown\n",
    "   - `engine.allocate_regional_resources(region, category, amount)` - Region-specific resource allocation\n",
    "   \n",
    "5. **Monitoring & Adaptation**\n",
    "   - `engine.register_step_callback(callback_function)` - Registers a function that runs at each simulation step"
   ]
  },
  {
   "cell_type": "markdown",
   "metadata": {},
   "source": [
    "## 1. Basic Strategies\n",
    "\n",
    "### 1.1 Fixed Approach Strategy\n",
    "\n",
    "The simplest approach is to set fixed intervention levels at the beginning and maintain them throughout the simulation."
   ]
  },
  {
   "cell_type": "code",
   "execution_count": null,
   "metadata": {},
   "outputs": [],
   "source": [
    "def fixed_strategy(engine):\n",
    "    \"\"\"A simple strategy that applies fixed measures throughout the simulation.\"\"\"\n",
    "    \n",
    "    # Set moderate lockdown\n",
    "    engine.set_lockdown_level(0.5)  # 50% lockdown severity\n",
    "    \n",
    "    # Allocate resources to key areas\n",
    "    engine.allocate_resources('healthcare', 300)  # Strengthen healthcare system\n",
    "    engine.allocate_resources('research', 200)    # Invest in research for vaccines/treatments\n",
    "    engine.allocate_resources('economic', 100)    # Provide some economic support\n",
    "    \n",
    "    # Apply travel restrictions\n",
    "    if hasattr(engine, 'restrict_travel'):\n",
    "        engine.restrict_travel(True)"
   ]
  },
  {
   "cell_type": "code",
   "execution_count": null,
   "metadata": {},
   "outputs": [],
   "source": [
    "# Set up and run the simulation with our fixed strategy\n",
    "competition.set_scenario(\"standard\")\n",
    "competition.setup_simulation()\n",
    "fixed_results = competition.run_simulation(steps=365, interventions=[fixed_strategy])\n",
    "\n",
    "# Display results\n",
    "competition.display_score(fixed_results)"
   ]
  },
  {
   "cell_type": "markdown",
   "metadata": {},
   "source": [
    "### 1.2 Phased Strategy\n",
    "\n",
    "A more effective approach is to divide the epidemic into phases and apply different measures in each phase."
   ]
  },
  {
   "cell_type": "code",
   "execution_count": null,
   "metadata": {},
   "outputs": [],
   "source": [
    "def phased_strategy(engine):\n",
    "    \"\"\"A strategy that applies different measures in predefined phases.\"\"\"\n",
    "    \n",
    "    # Register a callback to implement phased approach\n",
    "    def phase_based_response(step, state):\n",
    "        # Early phase - containment (days 0-60)\n",
    "        if step < 60:\n",
    "            engine.set_lockdown_level(0.7)  # Strict initial lockdown to contain spread\n",
    "            engine.allocate_resources('healthcare', 20)  # Prepare healthcare system\n",
    "            engine.allocate_resources('research', 15)    # Start research early\n",
    "            \n",
    "        # Middle phase - balanced approach (days 60-180)\n",
    "        elif 60 <= step < 180:\n",
    "            engine.set_lockdown_level(0.5)  # Moderate lockdown\n",
    "            engine.allocate_resources('healthcare', 15)\n",
    "            engine.allocate_resources('economic', 10)     # Support economy during extended measures\n",
    "            engine.allocate_resources('research', 10)     # Continue research\n",
    "            \n",
    "        # Late phase - recovery (days 180+)\n",
    "        else:\n",
    "            engine.set_lockdown_level(0.3)  # Relaxed lockdown\n",
    "            engine.allocate_resources('economic', 20)     # Focus on economic recovery\n",
    "            engine.allocate_resources('healthcare', 10)   # Maintain healthcare support\n",
    "    \n",
    "    # Initial measures\n",
    "    engine.set_lockdown_level(0.7)\n",
    "    engine.allocate_resources('healthcare', 200)  # Initial healthcare investment\n",
    "    engine.allocate_resources('research', 100)    # Initial research investment\n",
    "    \n",
    "    # Apply travel restrictions\n",
    "    if hasattr(engine, 'restrict_travel'):\n",
    "        engine.restrict_travel(True)\n",
    "    \n",
    "    # Register our callback\n",
    "    engine.register_step_callback(phase_based_response)"
   ]
  },
  {
   "cell_type": "code",
   "execution_count": null,
   "metadata": {},
   "outputs": [],
   "source": [
    "# Run the phased strategy simulation\n",
    "competition.set_scenario(\"standard\")\n",
    "competition.setup_simulation()\n",
    "phased_results = competition.run_simulation(steps=365, interventions=[phased_strategy])\n",
    "\n",
    "# Display results\n",
    "competition.display_score(phased_results)"
   ]
  },
  {
   "cell_type": "markdown",
   "metadata": {},
   "source": [
    "## 2. Intermediate Strategies\n",
    "\n",
    "### 2.1 Adaptive Threshold Strategy\n",
    "\n",
    "This strategy adapts measures based on the current infection rate, using thresholds to determine appropriate interventions."
   ]
  },
  {
   "cell_type": "code",
   "execution_count": null,
   "metadata": {},
   "outputs": [],
   "source": [
    "def adaptive_threshold_strategy(engine):\n",
    "    \"\"\"A strategy that adapts measures based on infection rate thresholds.\"\"\"\n",
    "    \n",
    "    # Initial measures\n",
    "    engine.set_lockdown_level(0.4)  # Start with moderate lockdown\n",
    "    engine.allocate_resources('healthcare', 200)\n",
    "    engine.allocate_resources('research', 100)\n",
    "    \n",
    "    # Track state across steps\n",
    "    state_tracker = {\n",
    "        'prev_infection_rate': 0.0,\n",
    "        'trend_increasing': False,\n",
    "        'days_above_threshold': 0,\n",
    "        'days_below_threshold': 0\n",
    "    }\n",
    "    \n",
    "    def threshold_based_response(step, state):\n",
    "        # Calculate current infection rate\n",
    "        infection_rate = state.population.infected / state.population.total\n",
    "        \n",
    "        # Track infection trend\n",
    "        state_tracker['trend_increasing'] = infection_rate > state_tracker['prev_infection_rate']\n",
    "        state_tracker['prev_infection_rate'] = infection_rate\n",
    "        \n",
    "        # Update threshold counters\n",
    "        if infection_rate > 0.1:  # High infection threshold\n",
    "            state_tracker['days_above_threshold'] += 1\n",
    "            state_tracker['days_below_threshold'] = 0\n",
    "        elif infection_rate < 0.05:  # Low infection threshold\n",
    "            state_tracker['days_below_threshold'] += 1\n",
    "            state_tracker['days_above_threshold'] = 0\n",
    "        \n",
    "        # Apply different strategies based on thresholds\n",
    "        \n",
    "        # Crisis response - high infection rate\n",
    "        if infection_rate > 0.15:\n",
    "            engine.set_lockdown_level(0.8)  # Severe lockdown\n",
    "            engine.allocate_resources('healthcare', 30)  # Surge healthcare resources\n",
    "            if hasattr(engine, 'restrict_travel'):\n",
    "                engine.restrict_travel(True)  # Restrict travel\n",
    "                \n",
    "        # High response - sustained high infection\n",
    "        elif infection_rate > 0.1 or state_tracker['days_above_threshold'] > 14:\n",
    "            engine.set_lockdown_level(0.7)  # Strict lockdown\n",
    "            engine.allocate_resources('healthcare', 20)\n",
    "            engine.allocate_resources('economic', 10)  # Economic support during strict measures\n",
    "            if hasattr(engine, 'restrict_travel'):\n",
    "                engine.restrict_travel(True)\n",
    "                \n",
    "        # Medium response - moderate infection or increasing trend\n",
    "        elif infection_rate > 0.05 or state_tracker['trend_increasing']:\n",
    "            engine.set_lockdown_level(0.5)  # Moderate lockdown\n",
    "            engine.allocate_resources('healthcare', 15)\n",
    "            engine.allocate_resources('research', 10)\n",
    "            if hasattr(engine, 'restrict_travel'):\n",
    "                engine.restrict_travel(infection_rate > 0.07)\n",
    "                \n",
    "        # Low response - sustained low infection\n",
    "        elif state_tracker['days_below_threshold'] > 21:\n",
    "            engine.set_lockdown_level(0.2)  # Minimal restrictions\n",
    "            engine.allocate_resources('economic', 20)  # Focus on economic recovery\n",
    "            engine.allocate_resources('healthcare', 5)  # Maintain healthcare\n",
    "            if hasattr(engine, 'restrict_travel'):\n",
    "                engine.restrict_travel(False)\n",
    "                \n",
    "        # Default response\n",
    "        else:\n",
    "            engine.set_lockdown_level(0.4)  # Moderate lockdown\n",
    "            engine.allocate_resources('healthcare', 10)\n",
    "            engine.allocate_resources('research', 5)\n",
    "            engine.allocate_resources('economic', 5)\n",
    "    \n",
    "    # Register callback\n",
    "    engine.register_step_callback(threshold_based_response)"
   ]
  },
  {
   "cell_type": "code",
   "execution_count": null,
   "metadata": {},
   "outputs": [],
   "source": [
    "# Run the adaptive threshold strategy simulation\n",
    "competition.set_scenario(\"standard\")\n",
    "competition.setup_simulation()\n",
    "threshold_results = competition.run_simulation(steps=365, interventions=[adaptive_threshold_strategy])\n",
    "\n",
    "# Display results\n",
    "competition.display_score(threshold_results)"
   ]
  }
 ],
 "metadata": {
  "language_info": {
   "name": "python"
  }
 },
 "nbformat": 4,
 "nbformat_minor": 2
}
